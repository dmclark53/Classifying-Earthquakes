{
 "cells": [
  {
   "cell_type": "markdown",
   "metadata": {},
   "source": [
    "# Classifying Earthquakes\n",
    "In this notebook, I classify earthquakes using an LSTM RNN TensorFlow model. The data is taken from the [UCR Time Series Classification Archive](http://www.cs.ucr.edu/~eamonn/time_series_data/) (Yanping Chen, Eamonn Keogh, Bing Hu, Nurjahan Begum, Anthony Bagnall, Abdullah Mueen and Gustavo Batista (2015))."
   ]
  },
  {
   "cell_type": "code",
   "execution_count": 1,
   "metadata": {
    "collapsed": true
   },
   "outputs": [],
   "source": [
    "import pandas as pd\n",
    "import numpy as np\n",
    "import os\n",
    "import sys\n",
    "import tensorflow as tf\n",
    "from tensorflow.python.framework import ops\n",
    "from matplotlib import pyplot as plt\n",
    "from natsort import natsorted\n",
    "%matplotlib inline"
   ]
  },
  {
   "cell_type": "markdown",
   "metadata": {},
   "source": [
    "## Data Preparation\n",
    "### Load the Data\n",
    "I load the data into Pandas DataFrames."
   ]
  },
  {
   "cell_type": "code",
   "execution_count": 2,
   "metadata": {
    "collapsed": false
   },
   "outputs": [],
   "source": [
    "training_set = pd.read_csv('data/Earthquakes_TRAIN', sep=',')\n",
    "test_validation_set = pd.read_csv('data/Earthquakes_TEST', sep=',')"
   ]
  },
  {
   "cell_type": "code",
   "execution_count": 3,
   "metadata": {
    "collapsed": false
   },
   "outputs": [
    {
     "name": "stdout",
     "output_type": "stream",
     "text": [
      "<class 'pandas.core.frame.DataFrame'>\n",
      "RangeIndex: 138 entries, 0 to 137\n",
      "Columns: 513 entries, 0 to -0.26927.475\n",
      "dtypes: float64(512), int64(1)\n",
      "memory usage: 553.2 KB\n"
     ]
    }
   ],
   "source": [
    "training_set.info()"
   ]
  },
  {
   "cell_type": "code",
   "execution_count": 4,
   "metadata": {
    "collapsed": false
   },
   "outputs": [
    {
     "data": {
      "text/plain": [
       "array([1, 0])"
      ]
     },
     "execution_count": 4,
     "metadata": {},
     "output_type": "execute_result"
    }
   ],
   "source": [
    "training_set.iloc[:,0].unique()"
   ]
  },
  {
   "cell_type": "markdown",
   "metadata": {},
   "source": [
    "## Data Exploration\n",
    "Let's separate the labels and features from both the training set and test/validation set. I can then investigate trends for each data set."
   ]
  },
  {
   "cell_type": "code",
   "execution_count": 5,
   "metadata": {
    "collapsed": true
   },
   "outputs": [],
   "source": [
    "X_train = training_set.iloc[:,1:]\n",
    "y_train = training_set.iloc[:,0]"
   ]
  },
  {
   "cell_type": "code",
   "execution_count": 6,
   "metadata": {
    "collapsed": true
   },
   "outputs": [],
   "source": [
    "X_test_validation = test_validation_set.iloc[:,1:]\n",
    "y_test_validation = test_validation_set.iloc[:,0]"
   ]
  },
  {
   "cell_type": "code",
   "execution_count": 7,
   "metadata": {
    "collapsed": false
   },
   "outputs": [
    {
     "name": "stdout",
     "output_type": "stream",
     "text": [
      "There are 2 unique training classes, which are [1, 0].\n"
     ]
    }
   ],
   "source": [
    "unique_training_classes =  y_train.unique().tolist()\n",
    "print(\"There are {} unique training classes, which are {}.\".format(len(unique_training_classes), unique_training_classes))"
   ]
  },
  {
   "cell_type": "code",
   "execution_count": 8,
   "metadata": {
    "collapsed": false
   },
   "outputs": [
    {
     "name": "stdout",
     "output_type": "stream",
     "text": [
      "There are 2 unique test classes, which are [0, 1].\n"
     ]
    }
   ],
   "source": [
    "unique_test_validation_classes =  y_test_validation.unique().tolist()\n",
    "print(\"There are {} unique test classes, which are {}.\".format(len(unique_test_validation_classes), unique_test_validation_classes))"
   ]
  },
  {
   "cell_type": "markdown",
   "metadata": {},
   "source": [
    "Good, all classes in the training and test sets are in agreement, as expected. Now, let's investigate the number of unique classes for each data set."
   ]
  },
  {
   "cell_type": "code",
   "execution_count": 9,
   "metadata": {
    "collapsed": false
   },
   "outputs": [
    {
     "name": "stdout",
     "output_type": "stream",
     "text": [
      "In the training set, there are 103 '0' classes and 35 '1' classes.\n"
     ]
    }
   ],
   "source": [
    "print(\"In the training set, there are {} '0' classes and {} '1' classes.\".format(len(y_train[y_train == 0]), len(y_train[y_train == 1])))"
   ]
  },
  {
   "cell_type": "code",
   "execution_count": 10,
   "metadata": {
    "collapsed": false
   },
   "outputs": [
    {
     "name": "stdout",
     "output_type": "stream",
     "text": [
      "In the test/validation set, there are 264 '0' classes and 57 '1' classes.\n"
     ]
    }
   ],
   "source": [
    "print(\"In the test/validation set, there are {} '0' classes and {} '1' classes.\".format(len(y_test_validation[y_test_validation == 0]), len(y_test_validation[y_test_validation == 1])))"
   ]
  },
  {
   "cell_type": "markdown",
   "metadata": {},
   "source": [
    "There is an unequal number of entries between the two different classes. This could be problematic during the modeling phase as it could lead to a bias. I will address this issue duing data preparation below."
   ]
  },
  {
   "cell_type": "markdown",
   "metadata": {},
   "source": [
    "### Data Visualization\n",
    "Let's plot a row of the training set and view what the data looks like."
   ]
  },
  {
   "cell_type": "code",
   "execution_count": 11,
   "metadata": {
    "collapsed": false
   },
   "outputs": [
    {
     "data": {
      "text/plain": [
       "<matplotlib.axes._subplots.AxesSubplot at 0x1065e08d0>"
      ]
     },
     "execution_count": 11,
     "metadata": {},
     "output_type": "execute_result"
    },
    {
     "data": {
      "image/png": "[encoded data removed]",
      "text/plain": [
       "<matplotlib.figure.Figure at 0x1065bee48>"
      ]
     },
     "metadata": {},
     "output_type": "display_data"
    }
   ],
   "source": [
    "mask = training_set.iloc[:,0] == 0\n",
    "subset = training_set.ix[mask == True, :].copy()\n",
    "subset.iloc[0,:].plot()"
   ]
  },
  {
   "cell_type": "markdown",
   "metadata": {},
   "source": [
    "## Data Preparation\n",
    "### Evenly split labels.\n",
    "Here I define a function to randomly choose values from the larger of the two classes and produce a dataset with equal quantities of both classes. This will be done for both the train set and test set."
   ]
  },
  {
   "cell_type": "code",
   "execution_count": 12,
   "metadata": {
    "collapsed": false
   },
   "outputs": [],
   "source": [
    "def random_data_split(df):\n",
    "    \n",
    "    classes = df.iloc[:,0]\n",
    "    unique_classes = classes.unique()\n",
    "    \n",
    "    number_of_classes_list = []\n",
    "    for c in unique_classes:\n",
    "        number_of_classes = len(classes[classes == c])\n",
    "        number_of_classes_list.append(number_of_classes)\n",
    "        \n",
    "    smallest_class_index = np.argmin(np.array(number_of_classes_list))\n",
    "    smallest_class = unique_classes[smallest_class_index]\n",
    "    \n",
    "    # Store smallest class in a DataFrame\n",
    "    smallest_class_mask = (df.iloc[:,0] == smallest_class).tolist()\n",
    "    df_small = df.iloc[smallest_class_mask,:]\n",
    "    smallest_class_size = len(df_small)\n",
    "    \n",
    "    # Select only classes larger than the smallest class\n",
    "    larger_classes = unique_classes[unique_classes != smallest_class]\n",
    "    larger_classes_mask = (df.iloc[:,0] != smallest_class).tolist()\n",
    "    df_larger = df.iloc[larger_classes_mask,:]\n",
    "    \n",
    "    # Loop through the larger classes and select a random set of size equal to the smallest class size\n",
    "    for lc in larger_classes:\n",
    "        class_mask = (df_larger.iloc[:,0] == lc).tolist()\n",
    "        df_get_class = df_larger.iloc[class_mask,:]\n",
    "        df_sample = df_get_class.sample(n=smallest_class_size)\n",
    "        df_small = df_small.append(df_sample)\n",
    "    \n",
    "    return df_small"
   ]
  },
  {
   "cell_type": "code",
   "execution_count": 13,
   "metadata": {
    "collapsed": false
   },
   "outputs": [],
   "source": [
    "training_set_resampled = random_data_split(training_set)\n",
    "new_training_index = np.arange(len(training_set_resampled))\n",
    "training_set_resampled = training_set_resampled.set_index(new_training_index).copy()"
   ]
  },
  {
   "cell_type": "code",
   "execution_count": 14,
   "metadata": {
    "collapsed": false
   },
   "outputs": [
    {
     "name": "stdout",
     "output_type": "stream",
     "text": [
      "There are 35 entries for class 1 in the training set.\n",
      "There are 35 entries for class 0 in the training set.\n"
     ]
    }
   ],
   "source": [
    "y_training_resampled = training_set_resampled.iloc[:,0]\n",
    "unique_training_labels_resampled = y_training_resampled.unique()\n",
    "\n",
    "for c in unique_training_labels_resampled:\n",
    "    label_count = len(y_training_resampled[y_training_resampled == c])\n",
    "    print('There are {} entries for class {} in the training set.'.format(label_count, c))"
   ]
  },
  {
   "cell_type": "code",
   "execution_count": 15,
   "metadata": {
    "collapsed": true
   },
   "outputs": [],
   "source": [
    "test_validation_set_resampled = random_data_split(test_validation_set)\n",
    "new_test_validation_index = np.arange(len(test_validation_set_resampled))\n",
    "test_validation_set_resampled = test_validation_set_resampled.set_index(new_test_validation_index).copy()"
   ]
  },
  {
   "cell_type": "code",
   "execution_count": 16,
   "metadata": {
    "collapsed": false
   },
   "outputs": [
    {
     "name": "stdout",
     "output_type": "stream",
     "text": [
      "There are 57 entries for class 1 in the test/validation set.\n",
      "There are 57 entries for class 0 in the test/validation set.\n"
     ]
    }
   ],
   "source": [
    "y_test_validation_resampled = test_validation_set_resampled.iloc[:,0]\n",
    "unique_test_validation_labels_resampled = y_test_validation_resampled.unique()\n",
    "\n",
    "for c in unique_test_validation_labels_resampled:\n",
    "    label_count = len(y_test_validation_resampled[y_test_validation_resampled == c])\n",
    "    print('There are {} entries for class {} in the test/validation set.'.format(label_count, c))"
   ]
  },
  {
   "cell_type": "markdown",
   "metadata": {},
   "source": [
    "Good. Now I have a way to ensure that each class is represented equally in the analysis."
   ]
  },
  {
   "cell_type": "markdown",
   "metadata": {},
   "source": [
    "### Split test_validation_set into test_set and validation_set\n",
    "Now I split the test_validation_set equally into a test_set and validation_set. The validation_set will be used to test the model accuracy during training, while the test_set will be used to measure the final model accuracy."
   ]
  },
  {
   "cell_type": "code",
   "execution_count": 17,
   "metadata": {
    "collapsed": false
   },
   "outputs": [],
   "source": [
    "split_index = len(test_validation_set_resampled) // 2\n",
    "test_set_resampled = test_validation_set_resampled.iloc[0:split_index,:].copy()\n",
    "validation_set_resampled = test_validation_set_resampled.iloc[split_index:,:].copy()\n",
    "new_validation_set_resampled_index = np.arange(len(validation_set_resampled))\n",
    "validation_set_resampled = validation_set_resampled.set_index(new_validation_set_resampled_index).copy()"
   ]
  },
  {
   "cell_type": "markdown",
   "metadata": {},
   "source": [
    "## Model Preparation"
   ]
  },
  {
   "cell_type": "code",
   "execution_count": 18,
   "metadata": {
    "collapsed": true
   },
   "outputs": [],
   "source": [
    "# Function to take a random batch of data from the training set\n",
    "def make_batch(full_training_set, batch_size, back_prop_steps):\n",
    "    \n",
    "    num_rows, num_columns = full_training_set.shape\n",
    "    \n",
    "    bp_start_i = np.random.choice(num_columns-back_prop_steps,1)[0]\n",
    "    bp_end_i = bp_start_i + back_prop_steps\n",
    "    \n",
    "    random_batch = full_training_set.sample(n=batch_size)\n",
    "    \n",
    "    X_batch = random_batch.iloc[0:,bp_start_i:bp_end_i]\n",
    "    y_batch_array = random_batch.iloc[:,0].values\n",
    "    y_batch = np.array([y_batch_array]*back_prop_steps)\n",
    "    \n",
    "    return X_batch, y_batch"
   ]
  },
  {
   "cell_type": "code",
   "execution_count": 19,
   "metadata": {
    "collapsed": false
   },
   "outputs": [],
   "source": [
    "# Function to print hyperparameters to a directory\n",
    "def save_hyperparameters(hyperparam_dict, training_step_list, final_accuracy):\n",
    "    \n",
    "    cwd = os.getcwd()\n",
    "    fpath = cwd+'/tmp/params'\n",
    "    try:\n",
    "        dirlist = os.listdir(fpath)\n",
    "        dirlist_parsed = [x.split('_') for x in dirlist]\n",
    "        dirlist_parsed_prefix = [x.split('_')[0] for x in dirlist]\n",
    "        dirlist_parsed_suffix = [x.split('_')[-1] for x in dirlist]\n",
    "\n",
    "        dirarray = np.array(dirlist)\n",
    "        dirarray_parsed_prefix = np.array(dirlist_parsed_prefix)\n",
    "        dirarray_sorted_suffix = np.array(natsorted(dirlist_parsed_suffix))\n",
    "    \n",
    "        num_run_dirs = np.sum(dirarray_parsed_prefix == 'run')\n",
    "    \n",
    "    except FileNotFoundError:\n",
    "        os.mkdir(fpath)\n",
    "        num_run_dirs = 0\n",
    "\n",
    "    # Check if run_1 directory exisits\n",
    "    if num_run_dirs == 0:\n",
    "        next_run_directory = '/run_1'\n",
    "    else:\n",
    "        previous_run_number = np.int(dirarray_sorted_suffix[-1])\n",
    "        next_run = previous_run_number + 1\n",
    "        next_run_string = np.str(next_run)\n",
    "        next_run_directory = '/run_'+next_run_string\n",
    "        \n",
    "    os.mkdir(fpath+next_run_directory)    \n",
    "    fo = open(fpath+next_run_directory+'/hyperparameters.txt', \"w\")\n",
    "    for key, value in hyperparam_dict.items():\n",
    "        fo.write(key+': '+np.str(value)+'\\n')\n",
    "    fo.write('\\n')\n",
    "    for list_item in training_step_list:\n",
    "        fo.write(list_item+'\\n')\n",
    "    fo.write(\"The final accuracy is {:3f}.\".format(final_accuracy))\n",
    "    fo.close()\n",
    "    \n",
    "    print('Saving hyperparameters to tmp/params{}/'.format(next_run_directory))"
   ]
  },
  {
   "cell_type": "code",
   "execution_count": 20,
   "metadata": {
    "collapsed": false
   },
   "outputs": [],
   "source": [
    "# Function to print parameters to a directory\n",
    "def create_log_directory():\n",
    "    \n",
    "    cwd = os.getcwd()\n",
    "    fpath = cwd+'/tmp/logs'\n",
    "    try:\n",
    "        dirlist = os.listdir(fpath)\n",
    "        dirlist_parsed = [x.split('_') for x in dirlist]\n",
    "        dirlist_parsed_prefix = [x.split('_')[0] for x in dirlist]\n",
    "        dirlist_parsed_suffix = [x.split('_')[-1] for x in dirlist]\n",
    "\n",
    "        dirarray = np.array(dirlist)\n",
    "        dirarray_parsed_prefix = np.array(dirlist_parsed_prefix)\n",
    "        dirarray_sorted_suffix = np.array(natsorted(dirlist_parsed_suffix))\n",
    "    \n",
    "        num_run_dirs = np.sum(dirarray_parsed_prefix == 'run')\n",
    "    \n",
    "    except FileNotFoundError:\n",
    "        os.mkdir(fpath)\n",
    "        num_run_dirs = 0\n",
    "\n",
    "    # Check if run_1 directory exisits\n",
    "    if num_run_dirs == 0:\n",
    "        os.mkdir(fpath+'/run_1')\n",
    "        log_directory = 'tmp/logs/run_1'\n",
    "    else:\n",
    "        previous_run_number = np.int(dirarray_sorted_suffix[-1])\n",
    "        next_run = previous_run_number + 1\n",
    "        next_run_string = np.str(next_run)\n",
    "        next_run_directory = '/run_'+next_run_string\n",
    "        os.mkdir(fpath+next_run_directory)\n",
    "        log_directory = 'tmp/logs/run_'+next_run_string\n",
    "\n",
    "    print('Saving summaries to '+log_directory+'/')    \n",
    "        \n",
    "    return log_directory"
   ]
  },
  {
   "cell_type": "markdown",
   "metadata": {},
   "source": [
    "### Define the hyperparameters\n",
    "Organized in dictionary to allow easy logging of values while searching for best model parameters."
   ]
  },
  {
   "cell_type": "code",
   "execution_count": 21,
   "metadata": {
    "collapsed": false
   },
   "outputs": [],
   "source": [
    "# Define the hyperparameters\n",
    "hyperparam_dict = dict(\n",
    "    number_of_classes = len(unique_training_labels_resampled),\n",
    "    batch_size = 10,\n",
    "    back_prop_steps = 50,\n",
    "    lstm_layers = 2,\n",
    "    lstm_cell_units = 7,\n",
    "    drop_out = 0.8,\n",
    "    clipping_ratio = 5,\n",
    "    learning_rate = 2e-6,\n",
    "    training_iterations = 2000\n",
    ")"
   ]
  },
  {
   "cell_type": "code",
   "execution_count": 22,
   "metadata": {
    "collapsed": true
   },
   "outputs": [],
   "source": [
    "# Define TensorFlow placeholders\n",
    "X = tf.placeholder(tf.float32,\n",
    "                   [None, hyperparam_dict['back_prop_steps']],\n",
    "                   name = 'Features')\n",
    "y = tf.placeholder(tf.int64,\n",
    "                   [None, hyperparam_dict['back_prop_steps']], \n",
    "                   name='Labels')\n",
    "keep_probability = tf.constant(hyperparam_dict['drop_out'])\n",
    "\n",
    "# Expand dimensions of features placeholder\n",
    "X_expanded = tf.expand_dims(X, 2)\n",
    "\n",
    "# Reshaped labels placeholder\n",
    "y_reshaped = tf.reshape(y, [-1])"
   ]
  },
  {
   "cell_type": "markdown",
   "metadata": {},
   "source": [
    "### Create the LSTM cell\n",
    "This includes dropout and multiple layers."
   ]
  },
  {
   "cell_type": "code",
   "execution_count": 23,
   "metadata": {
    "collapsed": false
   },
   "outputs": [],
   "source": [
    "def create_lstm_cell(lstm_cell_units, keep_probability, lstm_layers, batch_size, X):\n",
    "    cell = tf.nn.rnn_cell.LSTMCell(lstm_cell_units, state_is_tuple=True)\n",
    "    cell = tf.nn.rnn_cell.DropoutWrapper(cell, input_keep_prob=keep_probability)\n",
    "    cell = tf.nn.rnn_cell.MultiRNNCell([cell] * lstm_layers, state_is_tuple=True)\n",
    "    cell = tf.nn.rnn_cell.DropoutWrapper(cell, output_keep_prob=keep_probability)\n",
    "    init_state = cell.zero_state(batch_size, tf.float32)\n",
    "    cell_outputs, state = tf.nn.dynamic_rnn(cell, X, initial_state=init_state)\n",
    "    cell_outputs = tf.reshape(cell_outputs, [-1, lstm_cell_units])\n",
    "    \n",
    "    return cell_outputs, state"
   ]
  },
  {
   "cell_type": "markdown",
   "metadata": {},
   "source": [
    "### Create the softmax layer\n",
    "The LSTM cells will be placed in a softmax layer. This will allow the RNN to learn categorical data."
   ]
  },
  {
   "cell_type": "code",
   "execution_count": 24,
   "metadata": {
    "collapsed": false
   },
   "outputs": [],
   "source": [
    "def softmax_layer(lstm_cell_units, number_of_classes, cell_outputs):\n",
    "    W = tf.Variable(tf.truncated_normal([lstm_cell_units, number_of_classes], \n",
    "                                        stddev=1.0), \n",
    "                    name='weights', dtype=tf.float32, trainable=True)\n",
    "    b = tf.Variable(tf.zeros([number_of_classes]), \n",
    "                    name='biases', dtype=tf.float32, trainable=True)\n",
    "    logits = tf.add(tf.matmul(cell_outputs, W, name='multiply'), b, name='add')\n",
    "    \n",
    "    return logits"
   ]
  },
  {
   "cell_type": "markdown",
   "metadata": {},
   "source": [
    "### Define the cost function"
   ]
  },
  {
   "cell_type": "code",
   "execution_count": 25,
   "metadata": {
    "collapsed": false
   },
   "outputs": [],
   "source": [
    "def define_cost_function(logits, y, batch_size):\n",
    "    loss = tf.nn.sparse_softmax_cross_entropy_with_logits(logits, y, \n",
    "                                                          name='cross_entropy')\n",
    "    cost = tf.reduce_mean(loss) / batch_size\n",
    "    \n",
    "    return cost"
   ]
  },
  {
   "cell_type": "markdown",
   "metadata": {},
   "source": [
    "### Create the training step"
   ]
  },
  {
   "cell_type": "code",
   "execution_count": 26,
   "metadata": {
    "collapsed": false
   },
   "outputs": [],
   "source": [
    "def train(cost, learning_rate, clipping_ratio):\n",
    "    training_variables = tf.trainable_variables()\n",
    "    computed_gradientes = tf.gradients(cost, training_variables)\n",
    "    clipped_gradients, _ = tf.clip_by_global_norm(computed_gradientes, \n",
    "                                                  clipping_ratio)\n",
    "    optimizer = tf.train.AdamOptimizer(learning_rate)\n",
    "    gradients = list(zip(clipped_gradients, training_variables))\n",
    "    training_step = optimizer.apply_gradients(gradients)\n",
    "    # Create histograms for variables, gradients and gradient norms. Plots displayed in TensorBoard.\n",
    "    for gradient, variable in gradients:\n",
    "        if isinstance(gradient, ops.IndexedSlices):\n",
    "            gradient_values = gradient.values\n",
    "        else:\n",
    "            gradient_values = gradient\n",
    "        tf.histogram_summary(variable.name, variable)\n",
    "        tf.histogram_summary(variable.name + \"/gradients\", gradient_values)\n",
    "        tf.histogram_summary(variable.name + \"/gradient_norm\", \n",
    "                             tf.global_norm([gradient_values]))\n",
    "\n",
    "    return training_step"
   ]
  },
  {
   "cell_type": "markdown",
   "metadata": {},
   "source": [
    "### Check model accuracy during training"
   ]
  },
  {
   "cell_type": "code",
   "execution_count": 27,
   "metadata": {
    "collapsed": false
   },
   "outputs": [],
   "source": [
    "def check_model_accuracy(logits, y):\n",
    "    correct_prediction = tf.equal(tf.argmax(logits,1), y)\n",
    "    accuracy = tf.reduce_mean(tf.cast(correct_prediction, \"float\"), \n",
    "                              name='accuracy')\n",
    "    \n",
    "    return accuracy"
   ]
  },
  {
   "cell_type": "markdown",
   "metadata": {},
   "source": [
    "### Compute the final model accuracy"
   ]
  },
  {
   "cell_type": "code",
   "execution_count": 28,
   "metadata": {
    "collapsed": false
   },
   "outputs": [],
   "source": [
    "# Function to compute final model accuracy\n",
    "def compute_final_accuracy(test_set, batch_size, back_prop_steps):\n",
    "    test_rows = test_set.shape[0]\n",
    "    number_of_batches = np.floor(test_rows/batch_size)\n",
    "    test_accuracy = np.zeros(number_of_batches)\n",
    "    for i in range(int(number_of_batches)):\n",
    "        X_batch, y_batch = make_batch(test_set, batch_size, back_prop_steps)\n",
    "        X_batch_expanded = np.expand_dims(X_batch, axis=2)\n",
    "        y_batch_reshaped = np.ravel(y_batch)\n",
    "        test_accuracy[i] = sess.run(accuracy, \n",
    "                                    feed_dict = {X_expanded: X_batch_expanded, \n",
    "                                                 y_reshaped: y_batch_reshaped,\n",
    "                                                 keep_probability: 1})\n",
    "    \n",
    "    return np.mean(test_accuracy)"
   ]
  },
  {
   "cell_type": "markdown",
   "metadata": {},
   "source": [
    "## Setup the TensorFlow Graph\n",
    "Now that we have defined the functions needed for the TensorFlow graph, we can create it."
   ]
  },
  {
   "cell_type": "code",
   "execution_count": 29,
   "metadata": {
    "collapsed": false
   },
   "outputs": [],
   "source": [
    "# Create LSTM Cell\n",
    "with tf.name_scope(\"LSTM\") as scope:\n",
    "    cell_outputs, state = create_lstm_cell(hyperparam_dict['lstm_cell_units'], \n",
    "                                           keep_probability, \n",
    "                                           hyperparam_dict['lstm_layers'], \n",
    "                                           hyperparam_dict['batch_size'], \n",
    "                                           X_expanded)\n",
    "\n",
    "# Create softmax layer\n",
    "with tf.name_scope(\"softmax_layer\") as scope:\n",
    "    logits = softmax_layer(hyperparam_dict['lstm_cell_units'], \n",
    "                           hyperparam_dict['number_of_classes'], \n",
    "                           cell_outputs)\n",
    "\n",
    "# Define cost function\n",
    "with tf.name_scope(\"cost_function\") as scope:\n",
    "    cost = define_cost_function(logits, \n",
    "                                y_reshaped, \n",
    "                                hyperparam_dict['batch_size'])\n",
    "    tf.scalar_summary(\"cost\", cost)\n",
    "\n",
    "# Define training step\n",
    "with tf.name_scope(\"training\") as scope:\n",
    "    training_step = train(cost, \n",
    "                          hyperparam_dict['learning_rate'], \n",
    "                          hyperparam_dict['clipping_ratio'])\n",
    "\n",
    "# Calculate model accuracy\n",
    "with tf.name_scope(\"accuracy\") as scope:\n",
    "    accuracy = check_model_accuracy(logits, y_reshaped)\n",
    "    tf.scalar_summary(\"accuracy\", accuracy)"
   ]
  },
  {
   "cell_type": "markdown",
   "metadata": {},
   "source": [
    "## Train the model"
   ]
  },
  {
   "cell_type": "code",
   "execution_count": 30,
   "metadata": {
    "collapsed": false
   },
   "outputs": [
    {
     "name": "stdout",
     "output_type": "stream",
     "text": [
      "Saving summaries to tmp/logs/run_78/\n",
      "Training set resampled every 28 steps.\n",
      "Step 0 of 2000: training cost = 0.072, validation cost = 0.080, validation accuracy = 0.300.\n",
      "Step 100 of 2000: training cost = 0.068, validation cost = 0.087, validation accuracy = 0.212.\n",
      "Step 200 of 2000: training cost = 0.069, validation cost = 0.079, validation accuracy = 0.270.\n",
      "Step 300 of 2000: training cost = 0.077, validation cost = 0.083, validation accuracy = 0.160.\n",
      "Step 400 of 2000: training cost = 0.068, validation cost = 0.076, validation accuracy = 0.380.\n",
      "Step 500 of 2000: training cost = 0.067, validation cost = 0.078, validation accuracy = 0.296.\n",
      "Step 600 of 2000: training cost = 0.073, validation cost = 0.080, validation accuracy = 0.200.\n",
      "Step 700 of 2000: training cost = 0.072, validation cost = 0.082, validation accuracy = 0.202.\n",
      "Step 800 of 2000: training cost = 0.071, validation cost = 0.076, validation accuracy = 0.262.\n",
      "Step 900 of 2000: training cost = 0.076, validation cost = 0.083, validation accuracy = 0.138.\n",
      "Step 1000 of 2000: training cost = 0.071, validation cost = 0.078, validation accuracy = 0.286.\n",
      "Step 1100 of 2000: training cost = 0.068, validation cost = 0.078, validation accuracy = 0.258.\n",
      "Step 1200 of 2000: training cost = 0.070, validation cost = 0.077, validation accuracy = 0.214.\n",
      "Step 1300 of 2000: training cost = 0.072, validation cost = 0.080, validation accuracy = 0.170.\n",
      "Step 1400 of 2000: training cost = 0.069, validation cost = 0.076, validation accuracy = 0.272.\n",
      "Step 1500 of 2000: training cost = 0.075, validation cost = 0.076, validation accuracy = 0.312.\n",
      "Step 1600 of 2000: training cost = 0.071, validation cost = 0.077, validation accuracy = 0.304.\n",
      "Step 1700 of 2000: training cost = 0.068, validation cost = 0.084, validation accuracy = 0.160.\n",
      "Step 1800 of 2000: training cost = 0.073, validation cost = 0.076, validation accuracy = 0.330.\n",
      "Step 1900 of 2000: training cost = 0.073, validation cost = 0.079, validation accuracy = 0.226.\n"
     ]
    },
    {
     "name": "stderr",
     "output_type": "stream",
     "text": [
      "/Users/dave/anaconda/envs/python3/lib/python3.5/site-packages/ipykernel/__main__.py:5: VisibleDeprecationWarning: using a non-integer number instead of an integer will result in an error in the future\n"
     ]
    },
    {
     "name": "stdout",
     "output_type": "stream",
     "text": [
      "The final accuracy is 0.708400.\n",
      "Saving hyperparameters to tmp/params/run_78/\n"
     ]
    }
   ],
   "source": [
    "# Merge summaries for TensorBoard\n",
    "merged_summaries = tf.merge_all_summaries()\n",
    "\n",
    "# Start a TensorFlow session\n",
    "with tf.Session() as sess:\n",
    "    \n",
    "    log_directory = create_log_directory()\n",
    "    summary_writer = tf.train.SummaryWriter(log_directory, sess.graph)\n",
    "    \n",
    "    tf.initialize_all_variables().run()\n",
    "\n",
    "    step = 0\n",
    "    training_step_list = []\n",
    "    cost_train_ma = -np.log(1/float(hyperparam_dict['number_of_classes'])+1e-9)\n",
    "    training_set_resampled = random_data_split(training_set)\n",
    "    training_set_size = training_set_resampled.shape[0]\n",
    "    resample_frequency = hyperparam_dict['training_iterations'] // training_set_size\n",
    "    print(\"Training set resampled every {} steps.\".format(resample_frequency))\n",
    "    for i in range(hyperparam_dict['training_iterations']):\n",
    "        # Generate a new training set for a given frequency\n",
    "        if i % resample_frequency == 0:\n",
    "            training_set_resampled = random_data_split(training_set)\n",
    "            new_training_index = np.arange(len(training_set_resampled))\n",
    "            training_set_resampled = training_set_resampled.set_index(new_training_index).copy()\n",
    "\n",
    "        # Sample batch for training\n",
    "        X_batch, y_batch = make_batch(training_set_resampled, \n",
    "                                      hyperparam_dict['batch_size'], \n",
    "                                      hyperparam_dict['back_prop_steps'])\n",
    "        X_batch_expanded = np.expand_dims(X_batch, axis=2)\n",
    "        y_batch_reshaped = np.ravel(y_batch)\n",
    "\n",
    "        # Train the model\n",
    "        cost_train, _ = sess.run([cost, training_step], \n",
    "                                 feed_dict = {X_expanded:X_batch_expanded, \n",
    "                                              y_reshaped:y_batch_reshaped, \n",
    "                                              keep_probability: hyperparam_dict['drop_out']}\n",
    "                                )\n",
    "        cost_train_ma = cost_train_ma*0.99 + cost_train*0.01\n",
    "        if i%100 == 0:\n",
    "\n",
    "            # Evaluate validation performance\n",
    "            X_batch, y_batch = make_batch(validation_set_resampled, \n",
    "                                          hyperparam_dict['batch_size'], \n",
    "                                          hyperparam_dict['back_prop_steps'])\n",
    "            X_batch_expanded = np.expand_dims(X_batch, axis=2)\n",
    "            y_batch_reshaped = np.ravel(y_batch)\n",
    "            result = sess.run([cost, merged_summaries, accuracy], \n",
    "                              feed_dict = {X_expanded: X_batch_expanded, \n",
    "                                           y_reshaped: y_batch_reshaped,\n",
    "                                           keep_probability: 1},\n",
    "                             )\n",
    "            cost_validation = result[0]\n",
    "            accuracy_validation = result[2]\n",
    "            # cost_validation = cost\n",
    "            # accuracy_validation = acc\n",
    "            training_step_stats = 'Step {:d} of {:d}: training cost = {:0.3f}, validation cost = {:0.3f}, validation accuracy = {:0.3f}.'.format(i,hyperparam_dict['training_iterations'],cost_train,cost_validation,accuracy_validation)\n",
    "            print(training_step_stats)\n",
    "            training_step_list.append(training_step_stats)\n",
    "\n",
    "            # Save model parametes for TensorBoard\n",
    "            summary_str = result[1]\n",
    "            summary_writer.add_summary(summary_str, i)\n",
    "            summary_writer.flush()\n",
    "\n",
    "            step += 1\n",
    "\n",
    "    final_accuracy = compute_final_accuracy(test_set_resampled, \n",
    "                                            hyperparam_dict['batch_size'], \n",
    "                                            hyperparam_dict['back_prop_steps'])\n",
    "    print(\"The final accuracy is {:3f}.\".format(final_accuracy))\n",
    "    \n",
    "    # Save hyperparameters used for model fitting\n",
    "    save_hyperparameters(hyperparam_dict, training_step_list, final_accuracy)"
   ]
  },
  {
   "cell_type": "code",
   "execution_count": null,
   "metadata": {
    "collapsed": true
   },
   "outputs": [],
   "source": []
  }
 ],
 "metadata": {
  "anaconda-cloud": {},
  "kernelspec": {
   "display_name": "Python [conda env:python3]",
   "language": "python",
   "name": "conda-env-python3-py"
  },
  "language_info": {
   "codemirror_mode": {
    "name": "ipython",
    "version": 3
   },
   "file_extension": ".py",
   "mimetype": "text/x-python",
   "name": "python",
   "nbconvert_exporter": "python",
   "pygments_lexer": "ipython3",
   "version": "3.5.2"
  }
 },
 "nbformat": 4,
 "nbformat_minor": 0
}
